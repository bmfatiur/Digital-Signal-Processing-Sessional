{
 "cells": [
  {
   "cell_type": "code",
   "execution_count": null,
   "id": "f06b93bf",
   "metadata": {},
   "outputs": [],
   "source": [
    "import numpy as np\n",
    "\n",
    "def spectrum(f):\n",
    "  \"\"\"Calculates the spectrum of the given signal.\n",
    "\n",
    "  Args:\n",
    "    f: A numpy array representing the signal.\n",
    "\n",
    "  Returns:\n",
    "    A numpy array representing the spectrum of the signal.\n",
    "  \"\"\"\n",
    "\n",
    "  # Calculate the Fourier transform of the signal.\n",
    "  F = np.fft.fft(f)\n",
    "\n",
    "  # Shift the Fourier transform so that the zero frequency is in the center.\n",
    "  F = np.fft.fftshift(F)\n",
    "\n",
    "  # Calculate the magnitude of the Fourier transform.\n",
    "  magnitude = np.abs(F)\n",
    "\n",
    "  return magnitude\n",
    "\n",
    "# Generate the signal.\n",
    "f = 0.25 + 2 * np.sin(2 * np.pi * 5 * np.arange(0, 100)) + np.sin(2 * np.pi * 12.5 * np.arange(0, 100)) + 1.5 * np.sin(2 * np.pi * 20 * np.arange(0, 100)) + 0.5 * np.sin(2 * np.pi * 35 * np.arange(0, 100))\n",
    "\n",
    "# Calculate the spectrum of the signal.\n",
    "spectrum = spectrum(f)\n",
    "\n",
    "# Plot the spectrum.\n",
    "import matplotlib.pyplot as plt\n",
    "plt.plot(spectrum)\n",
    "plt.xlabel(\"Frequency (Hz)\")\n",
    "plt.ylabel(\"Magnitude\")\n",
    "plt.title(\"Spectrum of the given signal\")\n",
    "plt.show()\n"
   ]
  }
 ],
 "metadata": {
  "kernelspec": {
   "display_name": "Python 3 (ipykernel)",
   "language": "python",
   "name": "python3"
  },
  "language_info": {
   "codemirror_mode": {
    "name": "ipython",
    "version": 3
   },
   "file_extension": ".py",
   "mimetype": "text/x-python",
   "name": "python",
   "nbconvert_exporter": "python",
   "pygments_lexer": "ipython3",
   "version": "3.10.12"
  }
 },
 "nbformat": 4,
 "nbformat_minor": 5
}
